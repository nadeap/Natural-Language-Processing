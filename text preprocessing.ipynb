{
 "cells": [
  {
   "cell_type": "code",
   "execution_count": 1,
   "metadata": {},
   "outputs": [],
   "source": [
    "import nltk"
   ]
  },
  {
   "cell_type": "code",
   "execution_count": 2,
   "metadata": {},
   "outputs": [],
   "source": [
    "import re\n",
    "\n",
    "from nltk.corpus import stopwords\n",
    "from nltk.stem import PorterStemmer\n",
    "from nltk.stem import WordNetLemmatizer\n",
    "from nltk import word_tokenize\n",
    "import requests"
   ]
  },
  {
   "cell_type": "code",
   "execution_count": 3,
   "metadata": {},
   "outputs": [
    {
     "name": "stderr",
     "output_type": "stream",
     "text": [
      "[nltk_data] Downloading package punkt to\n",
      "[nltk_data]     C:\\Users\\HP\\AppData\\Roaming\\nltk_data...\n",
      "[nltk_data]   Unzipping tokenizers\\punkt.zip.\n",
      "[nltk_data] Downloading package stopwords to\n",
      "[nltk_data]     C:\\Users\\HP\\AppData\\Roaming\\nltk_data...\n",
      "[nltk_data]   Package stopwords is already up-to-date!\n",
      "[nltk_data] Downloading package wordnet to\n",
      "[nltk_data]     C:\\Users\\HP\\AppData\\Roaming\\nltk_data...\n"
     ]
    },
    {
     "data": {
      "text/plain": [
       "True"
      ]
     },
     "execution_count": 3,
     "metadata": {},
     "output_type": "execute_result"
    }
   ],
   "source": [
    "nltk.download('punkt')\n",
    "nltk.download('stopwords')\n",
    "nltk.download('wordnet')"
   ]
  },
  {
   "attachments": {},
   "cell_type": "markdown",
   "metadata": {},
   "source": [
    "### Import File Eksternal"
   ]
  },
  {
   "cell_type": "code",
   "execution_count": 4,
   "metadata": {},
   "outputs": [
    {
     "data": {
      "text/plain": [
       "'At school\\r\\nLucas goes to school every day of the week. He has many subjects to go to each school day: English, art, science, mathematics, gym, and history. His mother packs a big backpack full of books and lunch for Lucas.\\r\\n\\r\\nHis first class is English, and he likes that teacher very much. His English teacher says that he is a good pupil, which Lucas knows means that she thinks he is a good student.\\r\\n\\r\\nHis next class is art. He draws on paper with crayons and pencils and sometimes uses a ruler. Lucas likes art. It is his favorite class.\\r\\n\\r\\nHis third class is science. This class is very hard for Lucas to figure out, but he gets to work with his classmates a lot, which he likes to do. His friend, Kyle, works with Lucas in science class, and they have fun.\\r\\n\\r\\nThen Lucas gets his break for lunch. He sits with Kyle while he eats. The principal, or the headmaster as some call him, likes to walk around and talk to students during lunch to check that they are all behaving.\\r\\n\\r\\nThe next class is mathematics, which most of the students just call math. Kyle has trouble getting a good grade in mathematics, but the teacher is very nice and helpful.\\r\\n\\r\\nHis fourth class is gym. It is just exercising.\\r\\n\\r\\nHistory is his last class of the day Lucas has a hard time staying awake. Many lessons are boring, and he is very tired after doing gym.'"
      ]
     },
     "execution_count": 4,
     "metadata": {},
     "output_type": "execute_result"
    }
   ],
   "source": [
    "text = requests.get('https://github.com/rasyidev/well-known-datasets/raw/main/at_school.txt').text\n",
    "text"
   ]
  },
  {
   "cell_type": "code",
   "execution_count": 5,
   "metadata": {},
   "outputs": [
    {
     "data": {
      "text/plain": [
       "'at school\\r\\nlucas goes to school every day of the week. he has many subjects to go to each school day: english, art, science, mathematics, gym, and history. his mother packs a big backpack full of books and lunch for lucas.\\r\\n\\r\\nhis first class is english, and he likes that teacher very much. his english teacher says that he is a good pupil, which lucas knows means that she thinks he is a good student.\\r\\n\\r\\nhis next class is art. he draws on paper with crayons and pencils and sometimes uses a ruler. lucas likes art. it is his favorite class.\\r\\n\\r\\nhis third class is science. this class is very hard for lucas to figure out, but he gets to work with his classmates a lot, which he likes to do. his friend, kyle, works with lucas in science class, and they have fun.\\r\\n\\r\\nthen lucas gets his break for lunch. he sits with kyle while he eats. the principal, or the headmaster as some call him, likes to walk around and talk to students during lunch to check that they are all behaving.\\r\\n\\r\\nthe next class is mathematics, which most of the students just call math. kyle has trouble getting a good grade in mathematics, but the teacher is very nice and helpful.\\r\\n\\r\\nhis fourth class is gym. it is just exercising.\\r\\n\\r\\nhistory is his last class of the day lucas has a hard time staying awake. many lessons are boring, and he is very tired after doing gym.'"
      ]
     },
     "execution_count": 5,
     "metadata": {},
     "output_type": "execute_result"
    }
   ],
   "source": [
    "text = text.lower()\n",
    "text"
   ]
  },
  {
   "cell_type": "code",
   "execution_count": 6,
   "metadata": {},
   "outputs": [
    {
     "data": {
      "text/plain": [
       "'at school\\r\\nlucas goes to school every day of the week he has many subjects to go to each school day english art science mathematics gym and history his mother packs a big backpack full of books and lunch for lucas\\r\\n\\r\\nhis first class is english and he likes that teacher very much his english teacher says that he is a good pupil which lucas knows means that she thinks he is a good student\\r\\n\\r\\nhis next class is art he draws on paper with crayons and pencils and sometimes uses a ruler lucas likes art it is his favorite class\\r\\n\\r\\nhis third class is science this class is very hard for lucas to figure out but he gets to work with his classmates a lot which he likes to do his friend kyle works with lucas in science class and they have fun\\r\\n\\r\\nthen lucas gets his break for lunch he sits with kyle while he eats the principal or the headmaster as some call him likes to walk around and talk to students during lunch to check that they are all behaving\\r\\n\\r\\nthe next class is mathematics which most of the students just call math kyle has trouble getting a good grade in mathematics but the teacher is very nice and helpful\\r\\n\\r\\nhis fourth class is gym it is just exercising\\r\\n\\r\\nhistory is his last class of the day lucas has a hard time staying awake many lessons are boring and he is very tired after doing gym'"
      ]
     },
     "execution_count": 6,
     "metadata": {},
     "output_type": "execute_result"
    }
   ],
   "source": [
    "text = re.sub(r'[-()\\\"#/@;:<>{}`+=~|.!?,]', '', text)\n",
    "text"
   ]
  },
  {
   "cell_type": "code",
   "execution_count": 7,
   "metadata": {},
   "outputs": [
    {
     "name": "stdout",
     "output_type": "stream",
     "text": [
      "['at', 'school', 'lucas', 'goes', 'to', 'school', 'every', 'day', 'of', 'the', 'week', 'he', 'has', 'many', 'subjects', 'to', 'go', 'to', 'each', 'school', 'day', 'english', 'art', 'science', 'mathematics', 'gym', 'and', 'history', 'his', 'mother', 'packs', 'a', 'big', 'backpack', 'full', 'of', 'books', 'and', 'lunch', 'for', 'lucas', 'his', 'first', 'class', 'is', 'english', 'and', 'he', 'likes', 'that', 'teacher', 'very', 'much', 'his', 'english', 'teacher', 'says', 'that', 'he', 'is', 'a', 'good', 'pupil', 'which', 'lucas', 'knows', 'means', 'that', 'she', 'thinks', 'he', 'is', 'a', 'good', 'student', 'his', 'next', 'class', 'is', 'art', 'he', 'draws', 'on', 'paper', 'with', 'crayons', 'and', 'pencils', 'and', 'sometimes', 'uses', 'a', 'ruler', 'lucas', 'likes', 'art', 'it', 'is', 'his', 'favorite', 'class', 'his', 'third', 'class', 'is', 'science', 'this', 'class', 'is', 'very', 'hard', 'for', 'lucas', 'to', 'figure', 'out', 'but', 'he', 'gets', 'to', 'work', 'with', 'his', 'classmates', 'a', 'lot', 'which', 'he', 'likes', 'to', 'do', 'his', 'friend', 'kyle', 'works', 'with', 'lucas', 'in', 'science', 'class', 'and', 'they', 'have', 'fun', 'then', 'lucas', 'gets', 'his', 'break', 'for', 'lunch', 'he', 'sits', 'with', 'kyle', 'while', 'he', 'eats', 'the', 'principal', 'or', 'the', 'headmaster', 'as', 'some', 'call', 'him', 'likes', 'to', 'walk', 'around', 'and', 'talk', 'to', 'students', 'during', 'lunch', 'to', 'check', 'that', 'they', 'are', 'all', 'behaving', 'the', 'next', 'class', 'is', 'mathematics', 'which', 'most', 'of', 'the', 'students', 'just', 'call', 'math', 'kyle', 'has', 'trouble', 'getting', 'a', 'good', 'grade', 'in', 'mathematics', 'but', 'the', 'teacher', 'is', 'very', 'nice', 'and', 'helpful', 'his', 'fourth', 'class', 'is', 'gym', 'it', 'is', 'just', 'exercising', 'history', 'is', 'his', 'last', 'class', 'of', 'the', 'day', 'lucas', 'has', 'a', 'hard', 'time', 'staying', 'awake', 'many', 'lessons', 'are', 'boring', 'and', 'he', 'is', 'very', 'tired', 'after', 'doing', 'gym']\n"
     ]
    }
   ],
   "source": [
    "tokens = word_tokenize(text)\n",
    "print(tokens)"
   ]
  },
  {
   "attachments": {},
   "cell_type": "markdown",
   "metadata": {},
   "source": [
    "### Bag of Words"
   ]
  },
  {
   "cell_type": "code",
   "execution_count": 8,
   "metadata": {},
   "outputs": [],
   "source": [
    "mahasiswa = {'nama':'Nadea','NIM':20110031,'Alamat':'Lamongan'}"
   ]
  },
  {
   "cell_type": "code",
   "execution_count": 9,
   "metadata": {},
   "outputs": [
    {
     "data": {
      "text/plain": [
       "3"
      ]
     },
     "execution_count": 9,
     "metadata": {},
     "output_type": "execute_result"
    }
   ],
   "source": [
    "len(mahasiswa.keys())"
   ]
  },
  {
   "cell_type": "code",
   "execution_count": 10,
   "metadata": {},
   "outputs": [
    {
     "name": "stdout",
     "output_type": "stream",
     "text": [
      "at\n",
      "school\n",
      "lucas\n",
      "goes\n",
      "to\n",
      "school\n",
      "every\n",
      "day\n",
      "of\n",
      "the\n",
      "week\n",
      "he\n",
      "has\n",
      "many\n",
      "subjects\n",
      "to\n",
      "go\n",
      "to\n",
      "each\n",
      "school\n",
      "day\n",
      "english\n",
      "art\n",
      "science\n",
      "mathematics\n",
      "gym\n",
      "and\n",
      "history\n",
      "his\n",
      "mother\n",
      "packs\n",
      "a\n",
      "big\n",
      "backpack\n",
      "full\n",
      "of\n",
      "books\n",
      "and\n",
      "lunch\n",
      "for\n",
      "lucas\n",
      "his\n",
      "first\n",
      "class\n",
      "is\n",
      "english\n",
      "and\n",
      "he\n",
      "likes\n",
      "that\n",
      "teacher\n",
      "very\n",
      "much\n",
      "his\n",
      "english\n",
      "teacher\n",
      "says\n",
      "that\n",
      "he\n",
      "is\n",
      "a\n",
      "good\n",
      "pupil\n",
      "which\n",
      "lucas\n",
      "knows\n",
      "means\n",
      "that\n",
      "she\n",
      "thinks\n",
      "he\n",
      "is\n",
      "a\n",
      "good\n",
      "student\n",
      "his\n",
      "next\n",
      "class\n",
      "is\n",
      "art\n",
      "he\n",
      "draws\n",
      "on\n",
      "paper\n",
      "with\n",
      "crayons\n",
      "and\n",
      "pencils\n",
      "and\n",
      "sometimes\n",
      "uses\n",
      "a\n",
      "ruler\n",
      "lucas\n",
      "likes\n",
      "art\n",
      "it\n",
      "is\n",
      "his\n",
      "favorite\n",
      "class\n",
      "his\n",
      "third\n",
      "class\n",
      "is\n",
      "science\n",
      "this\n",
      "class\n",
      "is\n",
      "very\n",
      "hard\n",
      "for\n",
      "lucas\n",
      "to\n",
      "figure\n",
      "out\n",
      "but\n",
      "he\n",
      "gets\n",
      "to\n",
      "work\n",
      "with\n",
      "his\n",
      "classmates\n",
      "a\n",
      "lot\n",
      "which\n",
      "he\n",
      "likes\n",
      "to\n",
      "do\n",
      "his\n",
      "friend\n",
      "kyle\n",
      "works\n",
      "with\n",
      "lucas\n",
      "in\n",
      "science\n",
      "class\n",
      "and\n",
      "they\n",
      "have\n",
      "fun\n",
      "then\n",
      "lucas\n",
      "gets\n",
      "his\n",
      "break\n",
      "for\n",
      "lunch\n",
      "he\n",
      "sits\n",
      "with\n",
      "kyle\n",
      "while\n",
      "he\n",
      "eats\n",
      "the\n",
      "principal\n",
      "or\n",
      "the\n",
      "headmaster\n",
      "as\n",
      "some\n",
      "call\n",
      "him\n",
      "likes\n",
      "to\n",
      "walk\n",
      "around\n",
      "and\n",
      "talk\n",
      "to\n",
      "students\n",
      "during\n",
      "lunch\n",
      "to\n",
      "check\n",
      "that\n",
      "they\n",
      "are\n",
      "all\n",
      "behaving\n",
      "the\n",
      "next\n",
      "class\n",
      "is\n",
      "mathematics\n",
      "which\n",
      "most\n",
      "of\n",
      "the\n",
      "students\n",
      "just\n",
      "call\n",
      "math\n",
      "kyle\n",
      "has\n",
      "trouble\n",
      "getting\n",
      "a\n",
      "good\n",
      "grade\n",
      "in\n",
      "mathematics\n",
      "but\n",
      "the\n",
      "teacher\n",
      "is\n",
      "very\n",
      "nice\n",
      "and\n",
      "helpful\n",
      "his\n",
      "fourth\n",
      "class\n",
      "is\n",
      "gym\n",
      "it\n",
      "is\n",
      "just\n",
      "exercising\n",
      "history\n",
      "is\n",
      "his\n",
      "last\n",
      "class\n",
      "of\n",
      "the\n",
      "day\n",
      "lucas\n",
      "has\n",
      "a\n",
      "hard\n",
      "time\n",
      "staying\n",
      "awake\n",
      "many\n",
      "lessons\n",
      "are\n",
      "boring\n",
      "and\n",
      "he\n",
      "is\n",
      "very\n",
      "tired\n",
      "after\n",
      "doing\n",
      "gym\n"
     ]
    }
   ],
   "source": [
    "for kata in tokens:\n",
    "    print(kata)"
   ]
  },
  {
   "cell_type": "code",
   "execution_count": 11,
   "metadata": {},
   "outputs": [],
   "source": [
    "if 'usia' not in mahasiswa:\n",
    "    mahasiswa['usia'] = 20"
   ]
  },
  {
   "cell_type": "code",
   "execution_count": 12,
   "metadata": {},
   "outputs": [
    {
     "data": {
      "text/plain": [
       "{'nama': 'Nadea', 'NIM': 20110031, 'Alamat': 'Lamongan', 'usia': 20}"
      ]
     },
     "execution_count": 12,
     "metadata": {},
     "output_type": "execute_result"
    }
   ],
   "source": [
    "mahasiswa"
   ]
  },
  {
   "cell_type": "code",
   "execution_count": 13,
   "metadata": {},
   "outputs": [
    {
     "name": "stdout",
     "output_type": "stream",
     "text": [
      "{'at': 1, 'school': 3, 'lucas': 8, 'goes': 1, 'to': 9, 'every': 1, 'day': 3, 'of': 4, 'the': 7, 'week': 1, 'he': 10, 'has': 3, 'many': 2, 'subjects': 1, 'go': 1, 'each': 1, 'english': 3, 'art': 3, 'science': 3, 'mathematics': 3, 'gym': 3, 'and': 9, 'history': 2, 'his': 11, 'mother': 1, 'packs': 1, 'a': 7, 'big': 1, 'backpack': 1, 'full': 1, 'books': 1, 'lunch': 3, 'for': 3, 'first': 1, 'class': 9, 'is': 13, 'likes': 4, 'that': 4, 'teacher': 3, 'very': 4, 'much': 1, 'says': 1, 'good': 3, 'pupil': 1, 'which': 3, 'knows': 1, 'means': 1, 'she': 1, 'thinks': 1, 'student': 1, 'next': 2, 'draws': 1, 'on': 1, 'paper': 1, 'with': 4, 'crayons': 1, 'pencils': 1, 'sometimes': 1, 'uses': 1, 'ruler': 1, 'it': 2, 'favorite': 1, 'third': 1, 'this': 1, 'hard': 2, 'figure': 1, 'out': 1, 'but': 2, 'gets': 2, 'work': 1, 'classmates': 1, 'lot': 1, 'do': 1, 'friend': 1, 'kyle': 3, 'works': 1, 'in': 2, 'they': 2, 'have': 1, 'fun': 1, 'then': 1, 'break': 1, 'sits': 1, 'while': 1, 'eats': 1, 'principal': 1, 'or': 1, 'headmaster': 1, 'as': 1, 'some': 1, 'call': 2, 'him': 1, 'walk': 1, 'around': 1, 'talk': 1, 'students': 2, 'during': 1, 'check': 1, 'are': 2, 'all': 1, 'behaving': 1, 'most': 1, 'just': 2, 'math': 1, 'trouble': 1, 'getting': 1, 'grade': 1, 'nice': 1, 'helpful': 1, 'fourth': 1, 'exercising': 1, 'last': 1, 'time': 1, 'staying': 1, 'awake': 1, 'lessons': 1, 'boring': 1, 'tired': 1, 'after': 1, 'doing': 1}\n"
     ]
    }
   ],
   "source": [
    "frek_kata = {}\n",
    "for kata in tokens:\n",
    "    if kata not in frek_kata:\n",
    "        frek_kata[kata] = 1\n",
    "    else:\n",
    "        frek_kata[kata] += 1\n",
    "\n",
    "print(frek_kata)"
   ]
  },
  {
   "cell_type": "code",
   "execution_count": 15,
   "metadata": {},
   "outputs": [
    {
     "data": {
      "text/plain": [
       "120"
      ]
     },
     "execution_count": 15,
     "metadata": {},
     "output_type": "execute_result"
    }
   ],
   "source": [
    "len(frek_kata.keys())"
   ]
  },
  {
   "attachments": {},
   "cell_type": "markdown",
   "metadata": {},
   "source": [
    "### Menghilangkan Stopword"
   ]
  },
  {
   "cell_type": "code",
   "execution_count": 16,
   "metadata": {},
   "outputs": [
    {
     "name": "stdout",
     "output_type": "stream",
     "text": [
      "['i', 'me', 'my', 'myself', 'we', 'our', 'ours', 'ourselves', 'you', \"you're\", \"you've\", \"you'll\", \"you'd\", 'your', 'yours', 'yourself', 'yourselves', 'he', 'him', 'his', 'himself', 'she', \"she's\", 'her', 'hers', 'herself', 'it', \"it's\", 'its', 'itself', 'they', 'them', 'their', 'theirs', 'themselves', 'what', 'which', 'who', 'whom', 'this', 'that', \"that'll\", 'these', 'those', 'am', 'is', 'are', 'was', 'were', 'be', 'been', 'being', 'have', 'has', 'had', 'having', 'do', 'does', 'did', 'doing', 'a', 'an', 'the', 'and', 'but', 'if', 'or', 'because', 'as', 'until', 'while', 'of', 'at', 'by', 'for', 'with', 'about', 'against', 'between', 'into', 'through', 'during', 'before', 'after', 'above', 'below', 'to', 'from', 'up', 'down', 'in', 'out', 'on', 'off', 'over', 'under', 'again', 'further', 'then', 'once', 'here', 'there', 'when', 'where', 'why', 'how', 'all', 'any', 'both', 'each', 'few', 'more', 'most', 'other', 'some', 'such', 'no', 'nor', 'not', 'only', 'own', 'same', 'so', 'than', 'too', 'very', 's', 't', 'can', 'will', 'just', 'don', \"don't\", 'should', \"should've\", 'now', 'd', 'll', 'm', 'o', 're', 've', 'y', 'ain', 'aren', \"aren't\", 'couldn', \"couldn't\", 'didn', \"didn't\", 'doesn', \"doesn't\", 'hadn', \"hadn't\", 'hasn', \"hasn't\", 'haven', \"haven't\", 'isn', \"isn't\", 'ma', 'mightn', \"mightn't\", 'mustn', \"mustn't\", 'needn', \"needn't\", 'shan', \"shan't\", 'shouldn', \"shouldn't\", 'wasn', \"wasn't\", 'weren', \"weren't\", 'won', \"won't\", 'wouldn', \"wouldn't\"]\n"
     ]
    }
   ],
   "source": [
    "print(stopwords.words('english'))"
   ]
  },
  {
   "cell_type": "code",
   "execution_count": 17,
   "metadata": {},
   "outputs": [],
   "source": [
    "enStopword = stopwords.words('english')"
   ]
  },
  {
   "cell_type": "code",
   "execution_count": 18,
   "metadata": {},
   "outputs": [
    {
     "data": {
      "text/plain": [
       "True"
      ]
     },
     "execution_count": 18,
     "metadata": {},
     "output_type": "execute_result"
    }
   ],
   "source": [
    "'me' in enStopword"
   ]
  },
  {
   "cell_type": "code",
   "execution_count": 19,
   "metadata": {},
   "outputs": [],
   "source": [
    "unik = list(frek_kata.keys())\n",
    "for kata in unik:\n",
    "    if kata in enStopword:\n",
    "        del frek_kata[kata]\n",
    "\n",
    "unik = list(frek_kata.keys())"
   ]
  },
  {
   "cell_type": "code",
   "execution_count": 20,
   "metadata": {},
   "outputs": [
    {
     "data": {
      "text/plain": [
       "81"
      ]
     },
     "execution_count": 20,
     "metadata": {},
     "output_type": "execute_result"
    }
   ],
   "source": [
    "len(frek_kata.keys())"
   ]
  },
  {
   "attachments": {},
   "cell_type": "markdown",
   "metadata": {},
   "source": [
    "### Stemming and Lematization"
   ]
  },
  {
   "cell_type": "code",
   "execution_count": 21,
   "metadata": {},
   "outputs": [],
   "source": [
    "stemmer = PorterStemmer()\n",
    "lemmatizer = WordNetLemmatizer()"
   ]
  },
  {
   "cell_type": "code",
   "execution_count": 22,
   "metadata": {},
   "outputs": [
    {
     "name": "stdout",
     "output_type": "stream",
     "text": [
      "school | school | school | school\n",
      "lucas | lucas | luca | luca\n",
      "goes | go | goe | go\n",
      "every | every | everi | everi\n",
      "day | day | day | day\n",
      "week | week | week | week\n",
      "many | many | mani | mani\n",
      "subjects | subject | subject | subject\n",
      "go | go | go | go\n",
      "english | english | english | english\n",
      "art | art | art | art\n",
      "science | science | scienc | scienc\n",
      "mathematics | mathematics | mathemat | mathemat\n",
      "gym | gym | gym | gym\n",
      "history | history | histori | histori\n",
      "mother | mother | mother | mother\n",
      "packs | pack | pack | pack\n",
      "big | big | big | big\n",
      "backpack | backpack | backpack | backpack\n",
      "full | full | full | full\n",
      "books | book | book | book\n",
      "lunch | lunch | lunch | lunch\n",
      "first | first | first | first\n",
      "class | class | class | class\n",
      "likes | like | like | like\n",
      "teacher | teacher | teacher | teacher\n",
      "much | much | much | much\n",
      "says | say | say | say\n",
      "good | good | good | good\n",
      "pupil | pupil | pupil | pupil\n",
      "knows | know | know | know\n",
      "means | mean | mean | mean\n",
      "thinks | think | think | think\n",
      "student | student | student | student\n",
      "next | next | next | next\n",
      "draws | draw | draw | draw\n",
      "paper | paper | paper | paper\n",
      "crayons | crayon | crayon | crayon\n",
      "pencils | pencil | pencil | pencil\n",
      "sometimes | sometimes | sometim | sometim\n",
      "uses | us | use | us\n",
      "ruler | ruler | ruler | ruler\n",
      "favorite | favorite | favorit | favorit\n",
      "third | third | third | third\n",
      "hard | hard | hard | hard\n",
      "figure | figure | figur | figur\n",
      "gets | get | get | get\n",
      "work | work | work | work\n",
      "classmates | classmate | classmat | classmat\n",
      "lot | lot | lot | lot\n",
      "friend | friend | friend | friend\n",
      "kyle | kyle | kyle | kyle\n",
      "works | work | work | work\n",
      "fun | fun | fun | fun\n",
      "break | break | break | break\n",
      "sits | sits | sit | sit\n",
      "eats | eats | eat | eat\n",
      "principal | principal | princip | princip\n",
      "headmaster | headmaster | headmast | headmast\n",
      "call | call | call | call\n",
      "walk | walk | walk | walk\n",
      "around | around | around | around\n",
      "talk | talk | talk | talk\n",
      "students | student | student | student\n",
      "check | check | check | check\n",
      "behaving | behaving | behav | behav\n",
      "math | math | math | math\n",
      "trouble | trouble | troubl | troubl\n",
      "getting | getting | get | get\n",
      "grade | grade | grade | grade\n",
      "nice | nice | nice | nice\n",
      "helpful | helpful | help | help\n",
      "fourth | fourth | fourth | fourth\n",
      "exercising | exercising | exercis | exercis\n",
      "last | last | last | last\n",
      "time | time | time | time\n",
      "staying | staying | stay | stay\n",
      "awake | awake | awak | awak\n",
      "lessons | lesson | lesson | lesson\n",
      "boring | boring | bore | bore\n",
      "tired | tired | tire | tire\n"
     ]
    }
   ],
   "source": [
    "for kata in unik:\n",
    "  print(kata, '|', lemmatizer.lemmatize(kata), '|', lemmatizer.lemmatize(stemmer.stem(kata)), '|', stemmer.stem(lemmatizer.lemmatize(kata)))"
   ]
  },
  {
   "cell_type": "code",
   "execution_count": 23,
   "metadata": {},
   "outputs": [
    {
     "name": "stdout",
     "output_type": "stream",
     "text": [
      "exercising\n",
      "exercise\n"
     ]
    }
   ],
   "source": [
    "print(lemmatizer.lemmatize('exercising'))\n",
    "print(lemmatizer.lemmatize('exercising', pos = 'v'))"
   ]
  },
  {
   "cell_type": "code",
   "execution_count": 24,
   "metadata": {},
   "outputs": [
    {
     "data": {
      "text/plain": [
       "dict_keys(['school', 'lucas', 'go', 'every', 'day', 'week', 'many', 'subject', 'english', 'art', 'science', 'mathematics', 'gym', 'history', 'mother', 'pack', 'big', 'backpack', 'full', 'book', 'lunch', 'first', 'class', 'like', 'teacher', 'much', 'say', 'good', 'pupil', 'know', 'mean', 'think', 'student', 'next', 'draw', 'paper', 'crayon', 'pencil', 'sometimes', 'us', 'ruler', 'favorite', 'third', 'hard', 'figure', 'get', 'work', 'classmate', 'lot', 'friend', 'kyle', 'fun', 'break', 'sits', 'eats', 'principal', 'headmaster', 'call', 'walk', 'around', 'talk', 'check', 'behaving', 'math', 'trouble', 'getting', 'grade', 'nice', 'helpful', 'fourth', 'exercising', 'last', 'time', 'staying', 'awake', 'lesson', 'boring', 'tired'])"
      ]
     },
     "execution_count": 24,
     "metadata": {},
     "output_type": "execute_result"
    }
   ],
   "source": [
    "token_no_stop_words = [kata for kata in tokens if kata not in enStopword]\n",
    "token_lemmatized = [lemmatizer.lemmatize(kata) for kata in token_no_stop_words]\n",
    "\n",
    "frekuensi_kata_postprocessing = {}\n",
    "for kata in token_lemmatized:\n",
    "  if kata not in frekuensi_kata_postprocessing:\n",
    "    frekuensi_kata_postprocessing[kata] = 1\n",
    "  else:\n",
    "    frekuensi_kata_postprocessing[kata] += 1\n",
    "\n",
    "\n",
    "frekuensi_kata_postprocessing.keys()"
   ]
  },
  {
   "cell_type": "code",
   "execution_count": 25,
   "metadata": {},
   "outputs": [
    {
     "name": "stdout",
     "output_type": "stream",
     "text": [
      "81\n",
      "78\n"
     ]
    }
   ],
   "source": [
    "print(len(frek_kata))\n",
    "print(len(frekuensi_kata_postprocessing))"
   ]
  },
  {
   "attachments": {},
   "cell_type": "markdown",
   "metadata": {},
   "source": [
    "### Text Eksternal"
   ]
  },
  {
   "cell_type": "code",
   "execution_count": 2,
   "metadata": {},
   "outputs": [
    {
     "data": {
      "text/plain": [
       "'Rendang dinobatkan menjadi salah satu makanan terenak di dunia. Makanan khas Sumatera Barat ini memang digemari banyak orang, baik di Indonesia maupun mancanegara. Rendang semula merupakan menu utama di rumah makan yang berasal dari Sumatera Barat yang dikenal dengan masakan Padang. Rendang khas Minang adalah yang paling enak dan mendunia. Masakan ini memiliki tampilan yang menyisakan potongan daging berwarna coklat kehitaman dan kering.\\r\\n\\r\\nDalam tradisi Minangkabau, rendang dianggap sebagai makanan kehormatan dalam acara adat seperti perayaan adat, pernikahan dan acara penting lainnya. Ketika istana negara sedang menerima kunjungan dari negara lain, rendang pun sering disajikan untuk para tamu. Bagi masyarakat Minang, rendang memiliki filosofi yang berarti kesabaran, kebijakan dan ketekunan. Hal inilah yang menjadi kebanggaan masyarakat minang di manapun mereka berpijak serta menjadi identitas sebagai makanan khas Indonesia di mata dunia.\\r\\n\\r\\nDalam proses pembuatannya, diolah dengan bahan daging sapi yang dimasak dengan santan dan rempah khas, perpaduan rasa gurih, manis, dan pedas yang mampu menggoyang lidah siapa pun. Beberapa bumbu khas yang digunakan seperti bawang putih, bawang merah, jahe, lengkuas, cabai merah, daun kunyit dan daun jeruk. Dimasak selama 7 jam sehingga menghasilkan daging sapi bertekstur empuk yang enak dinikmati. Proses memasaknya membutuhkan waktu lama hingga tidak adanya cairan pada masakan.\\r\\n\\r\\nMemiliki cita rasa yang khas, dengan daging yang empuk namun tidak mudah hancur dan mampu bertahan dalam waktu lama. Terlebih resep yang diperlukan sangat simple meski memasaknya dalam waktu yang lama. Rasanya yang enak tak hanya dikenal di Indonesia, namun juga telah diakui hingga ke mancanegara. Alasan tersebutlah yang membuat rendang menjadi favorit banyak orang dan terenak di dunia.\\r\\n\\r\\nTak mengherankan bila rendang dapat dengan mudah menembus pasar kuliner internasional dengan rasanya yang kaya rempah khas. Selain terenak, juga diyakini sebagai makanan halal. Hal ini secara tidak langsung membuktikan bahwa kuliner Nusantara mampu bersaing di kancah internasional.'"
      ]
     },
     "execution_count": 2,
     "metadata": {},
     "output_type": "execute_result"
    }
   ],
   "source": [
    "import requests\n",
    "\n",
    "text = requests.get('https://github.com/rasyidev/well-known-datasets/raw/main/rendang.txt').text\n",
    "text"
   ]
  },
  {
   "cell_type": "code",
   "execution_count": 3,
   "metadata": {},
   "outputs": [
    {
     "data": {
      "text/plain": [
       "'rendang dinobatkan menjadi salah satu makanan terenak di dunia. makanan khas sumatera barat ini memang digemari banyak orang, baik di indonesia maupun mancanegara. rendang semula merupakan menu utama di rumah makan yang berasal dari sumatera barat yang dikenal dengan masakan padang. rendang khas minang adalah yang paling enak dan mendunia. masakan ini memiliki tampilan yang menyisakan potongan daging berwarna coklat kehitaman dan kering.\\r\\n\\r\\ndalam tradisi minangkabau, rendang dianggap sebagai makanan kehormatan dalam acara adat seperti perayaan adat, pernikahan dan acara penting lainnya. ketika istana negara sedang menerima kunjungan dari negara lain, rendang pun sering disajikan untuk para tamu. bagi masyarakat minang, rendang memiliki filosofi yang berarti kesabaran, kebijakan dan ketekunan. hal inilah yang menjadi kebanggaan masyarakat minang di manapun mereka berpijak serta menjadi identitas sebagai makanan khas indonesia di mata dunia.\\r\\n\\r\\ndalam proses pembuatannya, diolah dengan bahan daging sapi yang dimasak dengan santan dan rempah khas, perpaduan rasa gurih, manis, dan pedas yang mampu menggoyang lidah siapa pun. beberapa bumbu khas yang digunakan seperti bawang putih, bawang merah, jahe, lengkuas, cabai merah, daun kunyit dan daun jeruk. dimasak selama 7 jam sehingga menghasilkan daging sapi bertekstur empuk yang enak dinikmati. proses memasaknya membutuhkan waktu lama hingga tidak adanya cairan pada masakan.\\r\\n\\r\\nmemiliki cita rasa yang khas, dengan daging yang empuk namun tidak mudah hancur dan mampu bertahan dalam waktu lama. terlebih resep yang diperlukan sangat simple meski memasaknya dalam waktu yang lama. rasanya yang enak tak hanya dikenal di indonesia, namun juga telah diakui hingga ke mancanegara. alasan tersebutlah yang membuat rendang menjadi favorit banyak orang dan terenak di dunia.\\r\\n\\r\\ntak mengherankan bila rendang dapat dengan mudah menembus pasar kuliner internasional dengan rasanya yang kaya rempah khas. selain terenak, juga diyakini sebagai makanan halal. hal ini secara tidak langsung membuktikan bahwa kuliner nusantara mampu bersaing di kancah internasional.'"
      ]
     },
     "execution_count": 3,
     "metadata": {},
     "output_type": "execute_result"
    }
   ],
   "source": [
    "text = text.lower()\n",
    "text"
   ]
  },
  {
   "cell_type": "code",
   "execution_count": 5,
   "metadata": {},
   "outputs": [
    {
     "data": {
      "text/plain": [
       "'rendang dinobatkan menjadi salah satu makanan terenak di dunia makanan khas sumatera barat ini memang digemari banyak orang baik di indonesia maupun mancanegara rendang semula merupakan menu utama di rumah makan yang berasal dari sumatera barat yang dikenal dengan masakan padang rendang khas minang adalah yang paling enak dan mendunia masakan ini memiliki tampilan yang menyisakan potongan daging berwarna coklat kehitaman dan kering\\r\\n\\r\\ndalam tradisi minangkabau rendang dianggap sebagai makanan kehormatan dalam acara adat seperti perayaan adat pernikahan dan acara penting lainnya ketika istana negara sedang menerima kunjungan dari negara lain rendang pun sering disajikan untuk para tamu bagi masyarakat minang rendang memiliki filosofi yang berarti kesabaran kebijakan dan ketekunan hal inilah yang menjadi kebanggaan masyarakat minang di manapun mereka berpijak serta menjadi identitas sebagai makanan khas indonesia di mata dunia\\r\\n\\r\\ndalam proses pembuatannya diolah dengan bahan daging sapi yang dimasak dengan santan dan rempah khas perpaduan rasa gurih manis dan pedas yang mampu menggoyang lidah siapa pun beberapa bumbu khas yang digunakan seperti bawang putih bawang merah jahe lengkuas cabai merah daun kunyit dan daun jeruk dimasak selama 7 jam sehingga menghasilkan daging sapi bertekstur empuk yang enak dinikmati proses memasaknya membutuhkan waktu lama hingga tidak adanya cairan pada masakan\\r\\n\\r\\nmemiliki cita rasa yang khas dengan daging yang empuk namun tidak mudah hancur dan mampu bertahan dalam waktu lama terlebih resep yang diperlukan sangat simple meski memasaknya dalam waktu yang lama rasanya yang enak tak hanya dikenal di indonesia namun juga telah diakui hingga ke mancanegara alasan tersebutlah yang membuat rendang menjadi favorit banyak orang dan terenak di dunia\\r\\n\\r\\ntak mengherankan bila rendang dapat dengan mudah menembus pasar kuliner internasional dengan rasanya yang kaya rempah khas selain terenak juga diyakini sebagai makanan halal hal ini secara tidak langsung membuktikan bahwa kuliner nusantara mampu bersaing di kancah internasional'"
      ]
     },
     "execution_count": 5,
     "metadata": {},
     "output_type": "execute_result"
    }
   ],
   "source": [
    "import re\n",
    "\n",
    "text = re.sub(r\"[-()\\\"#/@;:<>{}`+=~|.!?,]\", \"\", text)\n",
    "text"
   ]
  },
  {
   "cell_type": "code",
   "execution_count": 7,
   "metadata": {},
   "outputs": [],
   "source": [
    "import nltk\n",
    "\n",
    "from nltk.corpus import stopwords\n",
    "from nltk.stem import PorterStemmer\n",
    "from nltk.stem import WordNetLemmatizer\n",
    "from nltk import word_tokenize"
   ]
  },
  {
   "cell_type": "code",
   "execution_count": 8,
   "metadata": {},
   "outputs": [
    {
     "name": "stdout",
     "output_type": "stream",
     "text": [
      "['rendang', 'dinobatkan', 'menjadi', 'salah', 'satu', 'makanan', 'terenak', 'di', 'dunia', 'makanan', 'khas', 'sumatera', 'barat', 'ini', 'memang', 'digemari', 'banyak', 'orang', 'baik', 'di', 'indonesia', 'maupun', 'mancanegara', 'rendang', 'semula', 'merupakan', 'menu', 'utama', 'di', 'rumah', 'makan', 'yang', 'berasal', 'dari', 'sumatera', 'barat', 'yang', 'dikenal', 'dengan', 'masakan', 'padang', 'rendang', 'khas', 'minang', 'adalah', 'yang', 'paling', 'enak', 'dan', 'mendunia', 'masakan', 'ini', 'memiliki', 'tampilan', 'yang', 'menyisakan', 'potongan', 'daging', 'berwarna', 'coklat', 'kehitaman', 'dan', 'kering', 'dalam', 'tradisi', 'minangkabau', 'rendang', 'dianggap', 'sebagai', 'makanan', 'kehormatan', 'dalam', 'acara', 'adat', 'seperti', 'perayaan', 'adat', 'pernikahan', 'dan', 'acara', 'penting', 'lainnya', 'ketika', 'istana', 'negara', 'sedang', 'menerima', 'kunjungan', 'dari', 'negara', 'lain', 'rendang', 'pun', 'sering', 'disajikan', 'untuk', 'para', 'tamu', 'bagi', 'masyarakat', 'minang', 'rendang', 'memiliki', 'filosofi', 'yang', 'berarti', 'kesabaran', 'kebijakan', 'dan', 'ketekunan', 'hal', 'inilah', 'yang', 'menjadi', 'kebanggaan', 'masyarakat', 'minang', 'di', 'manapun', 'mereka', 'berpijak', 'serta', 'menjadi', 'identitas', 'sebagai', 'makanan', 'khas', 'indonesia', 'di', 'mata', 'dunia', 'dalam', 'proses', 'pembuatannya', 'diolah', 'dengan', 'bahan', 'daging', 'sapi', 'yang', 'dimasak', 'dengan', 'santan', 'dan', 'rempah', 'khas', 'perpaduan', 'rasa', 'gurih', 'manis', 'dan', 'pedas', 'yang', 'mampu', 'menggoyang', 'lidah', 'siapa', 'pun', 'beberapa', 'bumbu', 'khas', 'yang', 'digunakan', 'seperti', 'bawang', 'putih', 'bawang', 'merah', 'jahe', 'lengkuas', 'cabai', 'merah', 'daun', 'kunyit', 'dan', 'daun', 'jeruk', 'dimasak', 'selama', '7', 'jam', 'sehingga', 'menghasilkan', 'daging', 'sapi', 'bertekstur', 'empuk', 'yang', 'enak', 'dinikmati', 'proses', 'memasaknya', 'membutuhkan', 'waktu', 'lama', 'hingga', 'tidak', 'adanya', 'cairan', 'pada', 'masakan', 'memiliki', 'cita', 'rasa', 'yang', 'khas', 'dengan', 'daging', 'yang', 'empuk', 'namun', 'tidak', 'mudah', 'hancur', 'dan', 'mampu', 'bertahan', 'dalam', 'waktu', 'lama', 'terlebih', 'resep', 'yang', 'diperlukan', 'sangat', 'simple', 'meski', 'memasaknya', 'dalam', 'waktu', 'yang', 'lama', 'rasanya', 'yang', 'enak', 'tak', 'hanya', 'dikenal', 'di', 'indonesia', 'namun', 'juga', 'telah', 'diakui', 'hingga', 'ke', 'mancanegara', 'alasan', 'tersebutlah', 'yang', 'membuat', 'rendang', 'menjadi', 'favorit', 'banyak', 'orang', 'dan', 'terenak', 'di', 'dunia', 'tak', 'mengherankan', 'bila', 'rendang', 'dapat', 'dengan', 'mudah', 'menembus', 'pasar', 'kuliner', 'internasional', 'dengan', 'rasanya', 'yang', 'kaya', 'rempah', 'khas', 'selain', 'terenak', 'juga', 'diyakini', 'sebagai', 'makanan', 'halal', 'hal', 'ini', 'secara', 'tidak', 'langsung', 'membuktikan', 'bahwa', 'kuliner', 'nusantara', 'mampu', 'bersaing', 'di', 'kancah', 'internasional']\n"
     ]
    }
   ],
   "source": [
    "tokens = word_tokenize(text)\n",
    "print(tokens)"
   ]
  },
  {
   "cell_type": "code",
   "execution_count": 9,
   "metadata": {},
   "outputs": [],
   "source": [
    "from Sastrawi.StopWordRemover.StopWordRemoverFactory import StopWordRemoverFactory\n",
    "from Sastrawi.Stemmer.StemmerFactory import StemmerFactory"
   ]
  },
  {
   "cell_type": "code",
   "execution_count": 10,
   "metadata": {},
   "outputs": [],
   "source": [
    "stopword_remover_factory = StopWordRemoverFactory()\n",
    "stemmer_factory = StemmerFactory()\n",
    "ina_stemmer = stemmer_factory.create_stemmer()\n",
    "ina_stopword = stopword_remover_factory.create_stop_word_remover()"
   ]
  },
  {
   "cell_type": "code",
   "execution_count": 11,
   "metadata": {},
   "outputs": [
    {
     "name": "stdout",
     "output_type": "stream",
     "text": [
      "['yang', 'untuk', 'pada', 'ke', 'para', 'namun', 'menurut', 'antara', 'dia', 'dua', 'ia', 'seperti', 'jika', 'jika', 'sehingga', 'kembali', 'dan', 'tidak', 'ini', 'karena', 'kepada', 'oleh', 'saat', 'harus', 'sementara', 'setelah', 'belum', 'kami', 'sekitar', 'bagi', 'serta', 'di', 'dari', 'telah', 'sebagai', 'masih', 'hal', 'ketika', 'adalah', 'itu', 'dalam', 'bisa', 'bahwa', 'atau', 'hanya', 'kita', 'dengan', 'akan', 'juga', 'ada', 'mereka', 'sudah', 'saya', 'terhadap', 'secara', 'agar', 'lain', 'anda', 'begitu', 'mengapa', 'kenapa', 'yaitu', 'yakni', 'daripada', 'itulah', 'lagi', 'maka', 'tentang', 'demi', 'dimana', 'kemana', 'pula', 'sambil', 'sebelum', 'sesudah', 'supaya', 'guna', 'kah', 'pun', 'sampai', 'sedangkan', 'selagi', 'sementara', 'tetapi', 'apakah', 'kecuali', 'sebab', 'selain', 'seolah', 'seraya', 'seterusnya', 'tanpa', 'agak', 'boleh', 'dapat', 'dsb', 'dst', 'dll', 'dahulu', 'dulunya', 'anu', 'demikian', 'tapi', 'ingin', 'juga', 'nggak', 'mari', 'nanti', 'melainkan', 'oh', 'ok', 'seharusnya', 'sebetulnya', 'setiap', 'setidaknya', 'sesuatu', 'pasti', 'saja', 'toh', 'ya', 'walau', 'tolong', 'tentu', 'amat', 'apalagi', 'bagaimanapun']\n"
     ]
    }
   ],
   "source": [
    "print(stopword_remover_factory.get_stop_words())"
   ]
  },
  {
   "cell_type": "code",
   "execution_count": 12,
   "metadata": {},
   "outputs": [
    {
     "name": "stdout",
     "output_type": "stream",
     "text": [
      "rendang dinobatkan menjadi salah satu makanan terenak di dunia makanan khas sumatera barat ini memang digemari banyak orang baik di indonesia maupun mancanegara rendang semula merupakan menu utama di rumah makan yang berasal dari sumatera barat yang dikenal dengan masakan padang rendang khas minang adalah yang paling enak dan mendunia masakan ini memiliki tampilan yang menyisakan potongan daging berwarna coklat kehitaman dan kering dalam tradisi minangkabau rendang dianggap sebagai makanan kehormatan dalam acara adat seperti perayaan adat pernikahan dan acara penting lainnya ketika istana negara sedang menerima kunjungan dari negara lain rendang pun sering disajikan untuk para tamu bagi masyarakat minang rendang memiliki filosofi yang berarti kesabaran kebijakan dan ketekunan hal inilah yang menjadi kebanggaan masyarakat minang di manapun mereka berpijak serta menjadi identitas sebagai makanan khas indonesia di mata dunia dalam proses pembuatannya diolah dengan bahan daging sapi yang dimasak dengan santan dan rempah khas perpaduan rasa gurih manis dan pedas yang mampu menggoyang lidah siapa pun beberapa bumbu khas yang digunakan seperti bawang putih bawang merah jahe lengkuas cabai merah daun kunyit dan daun jeruk dimasak selama 7 jam sehingga menghasilkan daging sapi bertekstur empuk yang enak dinikmati proses memasaknya membutuhkan waktu lama hingga tidak adanya cairan pada masakan memiliki cita rasa yang khas dengan daging yang empuk namun tidak mudah hancur dan mampu bertahan dalam waktu lama terlebih resep yang diperlukan sangat simple meski memasaknya dalam waktu yang lama rasanya yang enak tak hanya dikenal di indonesia namun juga telah diakui hingga ke mancanegara alasan tersebutlah yang membuat rendang menjadi favorit banyak orang dan terenak di dunia tak mengherankan bila rendang dapat dengan mudah menembus pasar kuliner internasional dengan rasanya yang kaya rempah khas selain terenak juga diyakini sebagai makanan halal hal ini secara tidak langsung membuktikan bahwa kuliner nusantara mampu bersaing di kancah internasional\n"
     ]
    }
   ],
   "source": [
    "text_from_token = ' '.join(tokens)\n",
    "print(text_from_token)\n",
    "\n",
    "text_from_token_no_stop_words = ina_stopword.remove(text_from_token)"
   ]
  },
  {
   "cell_type": "code",
   "execution_count": 13,
   "metadata": {},
   "outputs": [
    {
     "data": {
      "text/plain": [
       "'rendang nobat jadi salah satu makan enak dunia makan khas sumatera barat memang gari banyak orang baik indonesia maupun mancanegara rendang mula rupa menu utama rumah makan asal sumatera barat kenal masakan padang rendang khas mang paling enak dunia masakan milik tampil sisa potong daging warna coklat hitam kering tradisi minangkabau rendang anggap makan hormat acara adat raya adat nikah acara penting lain istana negara sedang terima kunjung negara rendang sering saji para tamu masyarakat mang rendang milik filosofi arti sabar bijak tekun ini jadi bangga masyarakat mang mana pijak jadi identitas makan khas indonesia mata dunia proses buat olah bahan daging sapi masak santan rempah khas padu rasa gurih manis pedas mampu goyang lidah siapa beberapa bumbu khas guna bawang putih bawang merah jahe lengkuas cabai merah daun kunyit daun jeruk masak lama 7 jam hasil daging sapi tekstur empuk enak nikmat proses masak butuh waktu lama hingga ada cair masakan milik cita rasa khas daging empuk tidak mudah hancur mampu tahan waktu lama lebih resep perlu sangat simple meski masak waktu lama rasa enak tak kenal indonesia aku hingga mancanegara alas sebut buat rendang jadi favorit banyak orang enak dunia tak heran bila rendang mudah tembus pasar kuliner internasional dengan rasa yang kaya rempah khas enak juga yakin makan halal ini tidak langsung bukti kuliner nusantara mampu saing kancah internasional'"
      ]
     },
     "execution_count": 13,
     "metadata": {},
     "output_type": "execute_result"
    }
   ],
   "source": [
    "stemmed_text = ina_stemmer.stem(text_from_token_no_stop_words) #ind only\n",
    "stemmed_text"
   ]
  },
  {
   "cell_type": "code",
   "execution_count": 14,
   "metadata": {},
   "outputs": [
    {
     "name": "stdout",
     "output_type": "stream",
     "text": [
      "['rendang', 'nobat', 'jadi', 'salah', 'satu', 'makan', 'enak', 'dunia', 'makan', 'khas', 'sumatera', 'barat', 'memang', 'gari', 'banyak', 'orang', 'baik', 'indonesia', 'maupun', 'mancanegara', 'rendang', 'mula', 'rupa', 'menu', 'utama', 'rumah', 'makan', 'asal', 'sumatera', 'barat', 'kenal', 'masakan', 'padang', 'rendang', 'khas', 'mang', 'paling', 'enak', 'dunia', 'masakan', 'milik', 'tampil', 'sisa', 'potong', 'daging', 'warna', 'coklat', 'hitam', 'kering', 'tradisi', 'minangkabau', 'rendang', 'anggap', 'makan', 'hormat', 'acara', 'adat', 'raya', 'adat', 'nikah', 'acara', 'penting', 'lain', 'istana', 'negara', 'sedang', 'terima', 'kunjung', 'negara', 'rendang', 'sering', 'saji', 'para', 'tamu', 'masyarakat', 'mang', 'rendang', 'milik', 'filosofi', 'arti', 'sabar', 'bijak', 'tekun', 'ini', 'jadi', 'bangga', 'masyarakat', 'mang', 'mana', 'pijak', 'jadi', 'identitas', 'makan', 'khas', 'indonesia', 'mata', 'dunia', 'proses', 'buat', 'olah', 'bahan', 'daging', 'sapi', 'masak', 'santan', 'rempah', 'khas', 'padu', 'rasa', 'gurih', 'manis', 'pedas', 'mampu', 'goyang', 'lidah', 'siapa', 'beberapa', 'bumbu', 'khas', 'guna', 'bawang', 'putih', 'bawang', 'merah', 'jahe', 'lengkuas', 'cabai', 'merah', 'daun', 'kunyit', 'daun', 'jeruk', 'masak', 'lama', '7', 'jam', 'hasil', 'daging', 'sapi', 'tekstur', 'empuk', 'enak', 'nikmat', 'proses', 'masak', 'butuh', 'waktu', 'lama', 'hingga', 'ada', 'cair', 'masakan', 'milik', 'cita', 'rasa', 'khas', 'daging', 'empuk', 'tidak', 'mudah', 'hancur', 'mampu', 'tahan', 'waktu', 'lama', 'lebih', 'resep', 'perlu', 'sangat', 'simple', 'meski', 'masak', 'waktu', 'lama', 'rasa', 'enak', 'tak', 'kenal', 'indonesia', 'aku', 'hingga', 'mancanegara', 'alas', 'sebut', 'buat', 'rendang', 'jadi', 'favorit', 'banyak', 'orang', 'enak', 'dunia', 'tak', 'heran', 'bila', 'rendang', 'mudah', 'tembus', 'pasar', 'kuliner', 'internasional', 'dengan', 'rasa', 'yang', 'kaya', 'rempah', 'khas', 'enak', 'juga', 'yakin', 'makan', 'halal', 'ini', 'tidak', 'langsung', 'bukti', 'kuliner', 'nusantara', 'mampu', 'saing', 'kancah', 'internasional']\n"
     ]
    }
   ],
   "source": [
    "token_from_stemmed_text = word_tokenize(stemmed_text)\n",
    "print(token_from_stemmed_text)"
   ]
  },
  {
   "cell_type": "code",
   "execution_count": null,
   "metadata": {},
   "outputs": [],
   "source": []
  }
 ],
 "metadata": {
  "kernelspec": {
   "display_name": "Python 3",
   "language": "python",
   "name": "python3"
  },
  "language_info": {
   "codemirror_mode": {
    "name": "ipython",
    "version": 3
   },
   "file_extension": ".py",
   "mimetype": "text/x-python",
   "name": "python",
   "nbconvert_exporter": "python",
   "pygments_lexer": "ipython3",
   "version": "3.10.8"
  },
  "orig_nbformat": 4,
  "vscode": {
   "interpreter": {
    "hash": "a9cff5a362bc38ef45d817ae74b1af54d6a076e3d773891282bce078b815ba34"
   }
  }
 },
 "nbformat": 4,
 "nbformat_minor": 2
}
